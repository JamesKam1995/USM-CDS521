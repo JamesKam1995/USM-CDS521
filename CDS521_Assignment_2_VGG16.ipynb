{
  "cells": [
    {
      "cell_type": "code",
      "execution_count": null,
      "metadata": {
        "colab": {
          "base_uri": "https://localhost:8080/",
          "height": 35
        },
        "id": "MvwXeIyM7RDV",
        "outputId": "34f29c3d-7616-4c25-f6fa-ccacb1cd12aa"
      },
      "outputs": [
        {
          "output_type": "execute_result",
          "data": {
            "text/plain": [
              "'/device:GPU:0'"
            ],
            "application/vnd.google.colaboratory.intrinsic+json": {
              "type": "string"
            }
          },
          "metadata": {},
          "execution_count": 1
        }
      ],
      "source": [
        "import tensorflow as tf\n",
        "tf.test.gpu_device_name()"
      ]
    },
    {
      "cell_type": "code",
      "execution_count": null,
      "metadata": {
        "colab": {
          "base_uri": "https://localhost:8080/"
        },
        "id": "1PbFlac97no2",
        "outputId": "731eb52c-3f0e-4c86-817f-d9a1d78ea42b"
      },
      "outputs": [
        {
          "output_type": "stream",
          "name": "stdout",
          "text": [
            "Mounted at /content/drive\n"
          ]
        }
      ],
      "source": [
        "from google.colab import drive\n",
        "drive.mount('/content/drive')"
      ]
    },
    {
      "cell_type": "code",
      "execution_count": null,
      "metadata": {
        "id": "ZglVkNp67umH"
      },
      "outputs": [],
      "source": [
        "import os\n",
        "import random\n",
        "import shutil\n",
        "from keras.layers import Input, Lambda, Dense, Dropout, Flatten, GlobalAveragePooling2D\n",
        "from keras.models import Model\n",
        "from keras.applications.vgg16 import VGG16\n",
        "from keras.applications.vgg16 import preprocess_input\n",
        "from keras.preprocessing import image\n",
        "from keras.preprocessing.image import ImageDataGenerator\n",
        "from keras.models import Sequential\n",
        "from keras import optimizers\n",
        "from keras.optimizers import Adam\n",
        "import numpy as np\n",
        "from glob import glob\n",
        "import matplotlib.pyplot as plt\n",
        "\n",
        "import warnings\n",
        "warnings.filterwarnings(\"ignore\", category=FutureWarning)"
      ]
    },
    {
      "cell_type": "code",
      "execution_count": null,
      "metadata": {
        "id": "9QVqdgGN7xII"
      },
      "outputs": [],
      "source": [
        "random.seed(7777)\n",
        "#1. Give dataset path\n",
        "data_dir = \"/content/drive/MyDrive/Wang_521/Resized_Images_VGG16\"\n",
        "\n",
        "train_dir = '/content/drive/MyDrive/Wang_521/Dataset/train'\n",
        "valid_dir = '/content/drive/MyDrive/Wang_521/Dataset/val'\n",
        "test_dir = '/content/drive/MyDrive/Wang_521/Dataset/test'\n",
        "split_ratio = (0.6, 0.2, 0.2)"
      ]
    },
    {
      "cell_type": "code",
      "execution_count": null,
      "metadata": {
        "id": "-pKjujZ7781Z"
      },
      "outputs": [],
      "source": [
        "# Create the directories for train, valid, and test splits\n",
        "os.makedirs(train_dir, exist_ok=True)\n",
        "os.makedirs(valid_dir, exist_ok=True)\n",
        "os.makedirs(test_dir, exist_ok=True)\n",
        "\n",
        "# Iterate over the subdirectories in the data directory\n",
        "for sub_dir in os.listdir(data_dir):\n",
        "    sub_dir_path = os.path.join(data_dir, sub_dir)\n",
        "    if os.path.isdir(sub_dir_path):\n",
        "        # Create corresponding subdirectories in train, valid, and test splits\n",
        "        train_sub_dir = os.path.join(train_dir, sub_dir)\n",
        "        valid_sub_dir = os.path.join(valid_dir, sub_dir)\n",
        "        test_sub_dir = os.path.join(test_dir, sub_dir)\n",
        "        os.makedirs(train_sub_dir, exist_ok=True)\n",
        "        os.makedirs(valid_sub_dir, exist_ok=True)\n",
        "        os.makedirs(test_sub_dir, exist_ok=True)\n",
        "\n",
        "        # Get the list of images in the current subdirectory\n",
        "        images = os.listdir(sub_dir_path)\n",
        "        random.shuffle(images)\n",
        "\n",
        "        # Calculate the number of images for each split\n",
        "        num_images = len(images)\n",
        "        num_train = int(num_images * split_ratio[0])\n",
        "        num_valid = int(num_images * split_ratio[1])\n",
        "        num_test = num_images - num_train - num_valid\n",
        "\n",
        "        # Split the images into train, valid, and test sets\n",
        "        train_images = images[:num_train]\n",
        "        valid_images = images[num_train:num_train+num_valid]\n",
        "        test_images = images[num_train+num_valid:]\n",
        "\n",
        "        # Move the images to the corresponding directories\n",
        "        for image in train_images:\n",
        "            src = os.path.join(sub_dir_path, image)\n",
        "            dst = os.path.join(train_sub_dir, image)\n",
        "            shutil.copyfile(src, dst)\n",
        "\n",
        "        for image in valid_images:\n",
        "            src = os.path.join(sub_dir_path, image)\n",
        "            dst = os.path.join(valid_sub_dir, image)\n",
        "            shutil.copyfile(src, dst)\n",
        "\n",
        "        for image in test_images:\n",
        "            src = os.path.join(sub_dir_path, image)\n",
        "            dst = os.path.join(test_sub_dir, image)\n",
        "            shutil.copyfile(src, dst)"
      ]
    },
    {
      "cell_type": "code",
      "execution_count": null,
      "metadata": {
        "id": "smPmNnD886mZ"
      },
      "outputs": [],
      "source": [
        "batch_size = 32\n",
        "\n",
        "# Data augmentation and preprocessing\n",
        "train_datagen = ImageDataGenerator(\n",
        "    preprocessing_function=preprocess_input,\n",
        "    rotation_range=40,\n",
        "    width_shift_range=0.2,\n",
        "    height_shift_range=0.2,\n",
        "    shear_range=0.2,\n",
        "    zoom_range=0.2,\n",
        "    horizontal_flip=True,\n",
        "    fill_mode='nearest'\n",
        ")"
      ]
    },
    {
      "cell_type": "code",
      "execution_count": null,
      "metadata": {
        "colab": {
          "base_uri": "https://localhost:8080/"
        },
        "id": "rYOtsIEm9DzB",
        "outputId": "bab04079-c504-416b-ef65-d38cc157173e"
      },
      "outputs": [
        {
          "output_type": "stream",
          "name": "stdout",
          "text": [
            "Found 4687 images belonging to 3 classes.\n",
            "Found 1562 images belonging to 3 classes.\n",
            "Found 1564 images belonging to 3 classes.\n"
          ]
        }
      ],
      "source": [
        "# Training data generator\n",
        "train_generator = train_datagen.flow_from_directory(\n",
        "    train_dir,\n",
        "    target_size=(224,224),\n",
        "    batch_size=32,\n",
        "    class_mode='categorical',\n",
        "    seed=7777\n",
        ")\n",
        "# Validation data generator\n",
        "valid_generator = train_datagen.flow_from_directory(\n",
        "    valid_dir,\n",
        "    target_size=(224,224),\n",
        "    batch_size=32,\n",
        "    class_mode='categorical',\n",
        "    seed=7777\n",
        ")\n",
        "# Test data generator\n",
        "test_generator = train_datagen.flow_from_directory(\n",
        "    test_dir,\n",
        "    target_size=(224,224),\n",
        "    batch_size=32,\n",
        "    class_mode='categorical',\n",
        "    seed=7777\n",
        ")"
      ]
    },
    {
      "cell_type": "code",
      "execution_count": null,
      "metadata": {
        "id": "WZkF79OF9Yqz"
      },
      "outputs": [],
      "source": [
        "def create_model(input_shape, n_classes, optimizer, fine_tune=0):\n",
        "\n",
        "    # Pretrained convolutional layers are loaded using the Imagenet weights.\n",
        "    # Include_top is set to False, in order to exclude the model's fully-connected layers.\n",
        "    conv_base = VGG16(include_top=False,\n",
        "                     weights='imagenet',\n",
        "                     input_shape=input_shape)\n",
        "\n",
        "    # Defines how many layers to freeze during training.\n",
        "    # Layers in the convolutional base are switched from trainable to non-trainable\n",
        "    # depending on the size of the fine-tuning parameter.\n",
        "    if fine_tune > 0:\n",
        "        for layer in conv_base.layers[:-fine_tune]:\n",
        "            layer.trainable = False\n",
        "    else:\n",
        "        for layer in conv_base.layers:\n",
        "            layer.trainable = False\n",
        "\n",
        "    # Create a new 'top' of the model (i.e. fully-connected layers).\n",
        "    # This is 'bootstrapping' a new top_model onto the pretrained layers.\n",
        "    top_model = conv_base.output\n",
        "    top_model = Flatten(name=\"flatten\")(top_model)\n",
        "    top_model = Dense(4096, activation='relu')(top_model)\n",
        "    top_model = Dense(1072, activation='relu')(top_model)\n",
        "    top_model = Dropout(0.2)(top_model)\n",
        "    output_layer = Dense(n_classes, activation='softmax')(top_model)\n",
        "\n",
        "    # Group the convolutional base and new fully-connected layers into a Model object.\n",
        "    model = Model(inputs=conv_base.input, outputs=output_layer)\n",
        "\n",
        "    # Compiles the model for training.\n",
        "    model.compile(optimizer=optimizer,\n",
        "                  loss='categorical_crossentropy',\n",
        "                  metrics=['accuracy'])\n",
        "\n",
        "    return model"
      ]
    },
    {
      "cell_type": "markdown",
      "source": [
        "optimizer=adam"
      ],
      "metadata": {
        "id": "etZHQit2P1fi"
      }
    },
    {
      "cell_type": "code",
      "source": [
        "input_shape = (224, 224, 3)\n",
        "n_classes=3\n",
        "\n",
        "n_steps = train_generator.samples // batch_size\n",
        "n_val_steps = valid_generator.samples // batch_size"
      ],
      "metadata": {
        "id": "3-r3HyoVsVyK"
      },
      "execution_count": null,
      "outputs": []
    },
    {
      "cell_type": "code",
      "source": [
        "input_shape = (224, 224, 3)\n",
        "n_classes=3\n",
        "\n",
        "#set the optimizer use adam\n",
        "optim_adam = Adam()\n",
        "\n",
        "# First we'll train the model without Fine-tuning using default Adam\n",
        "vgg_model_adam = create_model(input_shape, n_classes, optim_adam, fine_tune=0)\n",
        "\n",
        "# Make sure you have frozen the correct layers\n",
        "for i, layer in enumerate(vgg_model_adam.layers):\n",
        "  print(i, layer.name, layer.trainable)"
      ],
      "metadata": {
        "colab": {
          "base_uri": "https://localhost:8080/"
        },
        "id": "VEE4fHx06x0L",
        "outputId": "1473b74d-aa33-40d5-a6f2-0b7b855d3921"
      },
      "execution_count": null,
      "outputs": [
        {
          "output_type": "stream",
          "name": "stdout",
          "text": [
            "Downloading data from https://storage.googleapis.com/tensorflow/keras-applications/vgg16/vgg16_weights_tf_dim_ordering_tf_kernels_notop.h5\n",
            "58889256/58889256 [==============================] - 1s 0us/step\n",
            "0 input_1 False\n",
            "1 block1_conv1 False\n",
            "2 block1_conv2 False\n",
            "3 block1_pool False\n",
            "4 block2_conv1 False\n",
            "5 block2_conv2 False\n",
            "6 block2_pool False\n",
            "7 block3_conv1 False\n",
            "8 block3_conv2 False\n",
            "9 block3_conv3 False\n",
            "10 block3_pool False\n",
            "11 block4_conv1 False\n",
            "12 block4_conv2 False\n",
            "13 block4_conv3 False\n",
            "14 block4_pool False\n",
            "15 block5_conv1 False\n",
            "16 block5_conv2 False\n",
            "17 block5_conv3 False\n",
            "18 block5_pool False\n",
            "19 flatten True\n",
            "20 dense True\n",
            "21 dense_1 True\n",
            "22 dropout True\n",
            "23 dense_2 True\n"
          ]
        }
      ]
    },
    {
      "cell_type": "code",
      "execution_count": null,
      "metadata": {
        "colab": {
          "base_uri": "https://localhost:8080/"
        },
        "outputId": "cdf3ac31-3cc5-4d1e-8849-a77d3cb10389",
        "id": "4FLDkqsW7A0T"
      },
      "outputs": [
        {
          "output_type": "stream",
          "name": "stdout",
          "text": [
            "Model: \"model\"\n",
            "_________________________________________________________________\n",
            " Layer (type)                Output Shape              Param #   \n",
            "=================================================================\n",
            " input_1 (InputLayer)        [(None, 224, 224, 3)]     0         \n",
            "                                                                 \n",
            " block1_conv1 (Conv2D)       (None, 224, 224, 64)      1792      \n",
            "                                                                 \n",
            " block1_conv2 (Conv2D)       (None, 224, 224, 64)      36928     \n",
            "                                                                 \n",
            " block1_pool (MaxPooling2D)  (None, 112, 112, 64)      0         \n",
            "                                                                 \n",
            " block2_conv1 (Conv2D)       (None, 112, 112, 128)     73856     \n",
            "                                                                 \n",
            " block2_conv2 (Conv2D)       (None, 112, 112, 128)     147584    \n",
            "                                                                 \n",
            " block2_pool (MaxPooling2D)  (None, 56, 56, 128)       0         \n",
            "                                                                 \n",
            " block3_conv1 (Conv2D)       (None, 56, 56, 256)       295168    \n",
            "                                                                 \n",
            " block3_conv2 (Conv2D)       (None, 56, 56, 256)       590080    \n",
            "                                                                 \n",
            " block3_conv3 (Conv2D)       (None, 56, 56, 256)       590080    \n",
            "                                                                 \n",
            " block3_pool (MaxPooling2D)  (None, 28, 28, 256)       0         \n",
            "                                                                 \n",
            " block4_conv1 (Conv2D)       (None, 28, 28, 512)       1180160   \n",
            "                                                                 \n",
            " block4_conv2 (Conv2D)       (None, 28, 28, 512)       2359808   \n",
            "                                                                 \n",
            " block4_conv3 (Conv2D)       (None, 28, 28, 512)       2359808   \n",
            "                                                                 \n",
            " block4_pool (MaxPooling2D)  (None, 14, 14, 512)       0         \n",
            "                                                                 \n",
            " block5_conv1 (Conv2D)       (None, 14, 14, 512)       2359808   \n",
            "                                                                 \n",
            " block5_conv2 (Conv2D)       (None, 14, 14, 512)       2359808   \n",
            "                                                                 \n",
            " block5_conv3 (Conv2D)       (None, 14, 14, 512)       2359808   \n",
            "                                                                 \n",
            " block5_pool (MaxPooling2D)  (None, 7, 7, 512)         0         \n",
            "                                                                 \n",
            " flatten (Flatten)           (None, 25088)             0         \n",
            "                                                                 \n",
            " dense (Dense)               (None, 4096)              102764544 \n",
            "                                                                 \n",
            " dense_1 (Dense)             (None, 1072)              4391984   \n",
            "                                                                 \n",
            " dropout (Dropout)           (None, 1072)              0         \n",
            "                                                                 \n",
            " dense_2 (Dense)             (None, 3)                 3219      \n",
            "                                                                 \n",
            "=================================================================\n",
            "Total params: 121,874,435\n",
            "Trainable params: 107,159,747\n",
            "Non-trainable params: 14,714,688\n",
            "_________________________________________________________________\n"
          ]
        }
      ],
      "source": [
        "vgg_model_adam.summary()"
      ]
    },
    {
      "cell_type": "code",
      "execution_count": null,
      "metadata": {
        "id": "2On6kXUlAeTN"
      },
      "outputs": [],
      "source": [
        "n_steps = train_generator.samples // batch_size\n",
        "n_val_steps = valid_generator.samples // batch_size"
      ]
    },
    {
      "cell_type": "code",
      "execution_count": null,
      "metadata": {
        "colab": {
          "base_uri": "https://localhost:8080/"
        },
        "id": "YdwQLp1L_FwQ",
        "outputId": "639fdb0a-1ac3-4de4-da07-5fef96fc2700"
      },
      "outputs": [
        {
          "output_type": "stream",
          "name": "stdout",
          "text": [
            "146/146 [==============================] - 1452s 10s/step - loss: 8.1572 - accuracy: 0.9160 - val_loss: 0.1255 - val_accuracy: 0.9811\n"
          ]
        }
      ],
      "source": [
        "vgg_history_adam = vgg_model_adam.fit(train_generator,\n",
        "                            batch_size=batch_size,\n",
        "                            validation_data=valid_generator,\n",
        "                            steps_per_epoch=n_steps,\n",
        "                            validation_steps=n_val_steps,\n",
        "                            verbose=1)"
      ]
    },
    {
      "cell_type": "code",
      "execution_count": null,
      "metadata": {
        "colab": {
          "base_uri": "https://localhost:8080/"
        },
        "id": "MT4_v9PWB1jr",
        "outputId": "221e0b5a-e8af-489c-a1ee-9c95f772ff8a"
      },
      "outputs": [
        {
          "output_type": "stream",
          "name": "stdout",
          "text": [
            "49/49 [==============================] - 353s 7s/step - loss: 0.2213 - accuracy: 0.9783\n",
            "Adam Test Loss : 0.2213444858789444\n",
            "Adam Test accuracy: 0.97826087474823\n"
          ]
        }
      ],
      "source": [
        "# Evaluate the model on the test set\n",
        "test_loss_adam, test_acc_adam = vgg_model_adam.evaluate(test_generator)\n",
        "print('Adam Test Loss :', test_loss_adam)\n",
        "print('Adam Test accuracy:', test_acc_adam)"
      ]
    },
    {
      "cell_type": "markdown",
      "source": [
        "1.2 optimizr=sgd"
      ],
      "metadata": {
        "id": "2VDWcFwaPgSJ"
      }
    },
    {
      "cell_type": "code",
      "execution_count": null,
      "metadata": {
        "id": "W7GJYD9tCWJQ"
      },
      "outputs": [],
      "source": [
        "# Reset our image data generators\n",
        "train_generator.reset()\n",
        "valid_generator.reset()\n",
        "test_generator.reset()\n",
        "\n",
        "from keras.optimizers import SGD\n",
        "\n",
        "#set the optimizer use SGD\n",
        "optim_sgd = SGD()\n",
        "\n",
        "# First we'll train the model without Fine-tuning using default SGD\n",
        "vgg_model_sgd = create_model(input_shape, n_classes, optim_sgd, fine_tune=0)"
      ]
    },
    {
      "cell_type": "code",
      "execution_count": null,
      "metadata": {
        "id": "94wEOeMPCWLU",
        "colab": {
          "base_uri": "https://localhost:8080/"
        },
        "outputId": "391075b3-b476-48ac-ae90-feef65c02ec1"
      },
      "outputs": [
        {
          "output_type": "stream",
          "name": "stdout",
          "text": [
            "146/146 [==============================] - 117s 797ms/step - loss: nan - accuracy: 0.3368 - val_loss: nan - val_accuracy: 0.3333\n"
          ]
        }
      ],
      "source": [
        "vgg_history_sgd = vgg_model_sgd.fit(train_generator,\n",
        "                            batch_size=batch_size,\n",
        "                            validation_data=valid_generator,\n",
        "                            steps_per_epoch=n_steps,\n",
        "                            validation_steps=n_val_steps,\n",
        "                            verbose=1)"
      ]
    },
    {
      "cell_type": "code",
      "source": [
        "# Evaluate the model on the test set\n",
        "test_loss_sgd, test_acc_sgd = vgg_model_sgd.evaluate(test_generator)\n",
        "print('SGD Test Loss:', test_loss_sgd)\n",
        "print('SGD Test accuracy:', test_acc_sgd)"
      ],
      "metadata": {
        "colab": {
          "base_uri": "https://localhost:8080/"
        },
        "id": "TI-FXyI1QKm6",
        "outputId": "764e2758-4781-4a42-c5f1-2d00f99b5ec3"
      },
      "execution_count": null,
      "outputs": [
        {
          "output_type": "stream",
          "name": "stdout",
          "text": [
            "49/49 [==============================] - 25s 514ms/step - loss: nan - accuracy: 0.3325\n",
            "SGD Test Loss: nan\n",
            "SGD Test accuracy: 0.3324808180332184\n"
          ]
        }
      ]
    },
    {
      "cell_type": "markdown",
      "source": [
        "1.3 optimizer is RMSprop"
      ],
      "metadata": {
        "id": "5LmvkEfKQNGE"
      }
    },
    {
      "cell_type": "code",
      "source": [
        "# Reset our image data generators\n",
        "train_generator.reset()\n",
        "valid_generator.reset()\n",
        "test_generator.reset()\n",
        "\n",
        "from keras.optimizers import RMSprop\n",
        "\n",
        "#set the optimizer use SGD\n",
        "optim_RMSprop = RMSprop()\n",
        "\n",
        "# First we'll train the model without Fine-tuning using default Adam\n",
        "vgg_model_RMSprop = create_model(input_shape, n_classes, optim_RMSprop, fine_tune=0)"
      ],
      "metadata": {
        "id": "UffdVIU_QNxe"
      },
      "execution_count": null,
      "outputs": []
    },
    {
      "cell_type": "code",
      "source": [
        "vgg_history_RMSprop = vgg_model_RMSprop.fit(train_generator,\n",
        "                            batch_size=batch_size,\n",
        "                            validation_data=valid_generator,\n",
        "                            steps_per_epoch=n_steps,\n",
        "                            validation_steps=n_val_steps,\n",
        "                            verbose=1)"
      ],
      "metadata": {
        "colab": {
          "base_uri": "https://localhost:8080/"
        },
        "id": "J2aK0JZZQPYv",
        "outputId": "d36b3d02-5160-4369-9326-d5205b7fdab0"
      },
      "execution_count": null,
      "outputs": [
        {
          "output_type": "stream",
          "name": "stdout",
          "text": [
            "146/146 [==============================] - 120s 821ms/step - loss: 27.7341 - accuracy: 0.9042 - val_loss: 0.1913 - val_accuracy: 0.9798\n"
          ]
        }
      ]
    },
    {
      "cell_type": "code",
      "source": [
        "# Evaluate the model on the test set\n",
        "test_loss_RMSprop, test_acc_RMSprop = vgg_model_RMSprop.evaluate(test_generator)\n",
        "print('RMSprop Test Loss:', test_loss_RMSprop)\n",
        "print('RMSprop Test accuracy:', test_acc_RMSprop)"
      ],
      "metadata": {
        "colab": {
          "base_uri": "https://localhost:8080/"
        },
        "id": "jM5ukW4UQSL6",
        "outputId": "d35e6c11-bb56-4b98-c64f-9a38f1e904a9"
      },
      "execution_count": null,
      "outputs": [
        {
          "output_type": "stream",
          "name": "stdout",
          "text": [
            "49/49 [==============================] - 24s 483ms/step - loss: 0.2273 - accuracy: 0.9795\n",
            "RMSprop Test Loss: 0.22726868093013763\n",
            "RMSprop Test accuracy: 0.9795396327972412\n"
          ]
        }
      ]
    },
    {
      "cell_type": "markdown",
      "source": [
        "1.4 optimizer is Adadelta"
      ],
      "metadata": {
        "id": "LqWA6u5IQWXD"
      }
    },
    {
      "cell_type": "code",
      "source": [
        "# Reset our image data generators\n",
        "train_generator.reset()\n",
        "valid_generator.reset()\n",
        "test_generator.reset()\n",
        "\n",
        "from keras.optimizers import Adadelta\n",
        "\n",
        "#set the optimizer use SGD\n",
        "optim_Adadelta = Adadelta()\n",
        "\n",
        "# First we'll train the model without Fine-tuning using default Adam\n",
        "vgg_model_Adadelta = create_model(input_shape, n_classes, optim_Adadelta, fine_tune=0)"
      ],
      "metadata": {
        "id": "iQBiQeynQX3V"
      },
      "execution_count": null,
      "outputs": []
    },
    {
      "cell_type": "code",
      "source": [
        "vgg_history_Adadelta = vgg_model_Adadelta.fit(train_generator,\n",
        "                            batch_size=batch_size,\n",
        "                            validation_data=valid_generator,\n",
        "                            steps_per_epoch=n_steps,\n",
        "                            validation_steps=n_val_steps,\n",
        "                            verbose=1)"
      ],
      "metadata": {
        "colab": {
          "base_uri": "https://localhost:8080/"
        },
        "id": "Ay6He9VJboST",
        "outputId": "a1e69c11-92bd-4a47-c6e6-1711bed21383"
      },
      "execution_count": null,
      "outputs": [
        {
          "output_type": "stream",
          "name": "stdout",
          "text": [
            "146/146 [==============================] - 115s 784ms/step - loss: 2.8994 - accuracy: 0.5873 - val_loss: 0.9098 - val_accuracy: 0.8014\n"
          ]
        }
      ]
    },
    {
      "cell_type": "code",
      "source": [
        "# Evaluate the model on the test set\n",
        "test_loss_Adadelta, test_acc_Adadelta = vgg_model_Adadelta.evaluate(test_generator)\n",
        "print('Adadelta Test Loss:', test_loss_Adadelta)\n",
        "print('Adadelta Test accuracy:', test_acc_Adadelta)"
      ],
      "metadata": {
        "colab": {
          "base_uri": "https://localhost:8080/"
        },
        "id": "r6TzAk_HQajS",
        "outputId": "0f09b974-cc00-4218-d85c-8e750c2aa412"
      },
      "execution_count": null,
      "outputs": [
        {
          "output_type": "stream",
          "name": "stdout",
          "text": [
            "49/49 [==============================] - 22s 451ms/step - loss: 1.0000 - accuracy: 0.8075\n",
            "Adadelta Test Loss: 0.9999516606330872\n",
            "Adadelta Test accuracy: 0.8075447678565979\n"
          ]
        }
      ]
    },
    {
      "cell_type": "markdown",
      "source": [
        "1.5 optimizer is Adagrad"
      ],
      "metadata": {
        "id": "8eX352bgIwcG"
      }
    },
    {
      "cell_type": "code",
      "source": [
        "# Reset our image data generators\n",
        "train_generator.reset()\n",
        "valid_generator.reset()\n",
        "test_generator.reset()\n",
        "\n",
        "from keras.optimizers import Adagrad\n",
        "\n",
        "#set the optimizer use SGD\n",
        "optim_Adagrad = Adagrad()\n",
        "\n",
        "# First we'll train the model without Fine-tuning using default Adam\n",
        "vgg_model_Adagrad = create_model(input_shape, n_classes, optim_Adagrad, fine_tune=0)"
      ],
      "metadata": {
        "id": "mVrMl1TKVHte"
      },
      "execution_count": null,
      "outputs": []
    },
    {
      "cell_type": "code",
      "source": [
        "vgg_history_Adagrad = vgg_model_Adagrad.fit(train_generator,\n",
        "                            batch_size=batch_size,\n",
        "                            validation_data=valid_generator,\n",
        "                            steps_per_epoch=n_steps,\n",
        "                            validation_steps=n_val_steps,\n",
        "                            verbose=1)"
      ],
      "metadata": {
        "colab": {
          "base_uri": "https://localhost:8080/"
        },
        "id": "by73-6kzI4r-",
        "outputId": "2a61608f-371d-4d51-b51c-bf302e2df78c"
      },
      "execution_count": null,
      "outputs": [
        {
          "output_type": "stream",
          "name": "stdout",
          "text": [
            "146/146 [==============================] - 114s 777ms/step - loss: 1.6454 - accuracy: 0.9205 - val_loss: 0.0931 - val_accuracy: 0.9792\n"
          ]
        }
      ]
    },
    {
      "cell_type": "code",
      "source": [
        "# Evaluate the model on the test set\n",
        "test_loss_Adagrad, test_acc_Adagrad = vgg_model_Adagrad.evaluate(test_generator)\n",
        "print('Adadelta Test Loss:', test_loss_Adagrad)\n",
        "print('Adadelta Test accuracy:', test_acc_Adagrad)"
      ],
      "metadata": {
        "colab": {
          "base_uri": "https://localhost:8080/"
        },
        "id": "EElGcbFyI6je",
        "outputId": "7716db0e-68aa-495d-b362-9ee3b4f3b9a2"
      },
      "execution_count": null,
      "outputs": [
        {
          "output_type": "stream",
          "name": "stdout",
          "text": [
            "49/49 [==============================] - 24s 483ms/step - loss: 0.1260 - accuracy: 0.9738\n",
            "Adadelta Test Loss: 0.12599189579486847\n",
            "Adadelta Test accuracy: 0.9737851619720459\n"
          ]
        }
      ]
    },
    {
      "cell_type": "markdown",
      "source": [
        "1.6 optimizer is Adamax"
      ],
      "metadata": {
        "id": "DPvVT-wbJCx2"
      }
    },
    {
      "cell_type": "code",
      "source": [
        "# Reset our image data generators\n",
        "train_generator.reset()\n",
        "valid_generator.reset()\n",
        "test_generator.reset()\n",
        "\n",
        "from keras.optimizers import Adamax\n",
        "\n",
        "#set the optimizer use SGD\n",
        "optim_Adamax = Adamax()\n",
        "\n",
        "# First we'll train the model without Fine-tuning using default Adam\n",
        "vgg_model_Adamax = create_model(input_shape, n_classes, optim_Adamax, fine_tune=0)"
      ],
      "metadata": {
        "id": "AGbaKB0gJEgk"
      },
      "execution_count": null,
      "outputs": []
    },
    {
      "cell_type": "code",
      "source": [
        "vgg_history_Adamax = vgg_model_Adamax.fit(train_generator,\n",
        "                            batch_size=batch_size,\n",
        "                            validation_data=valid_generator,\n",
        "                            steps_per_epoch=n_steps,\n",
        "                            validation_steps=n_val_steps,\n",
        "                            verbose=1)"
      ],
      "metadata": {
        "colab": {
          "base_uri": "https://localhost:8080/"
        },
        "id": "25gcHKtNJHFQ",
        "outputId": "abd0e3aa-9516-4568-cb55-87a5404663af"
      },
      "execution_count": null,
      "outputs": [
        {
          "output_type": "stream",
          "name": "stdout",
          "text": [
            "146/146 [==============================] - 117s 799ms/step - loss: 9.7801 - accuracy: 0.9070 - val_loss: 0.1185 - val_accuracy: 0.9779\n"
          ]
        }
      ]
    },
    {
      "cell_type": "code",
      "source": [
        "# Evaluate the model on the test set\n",
        "test_loss_Adamax, test_acc_Adamax = vgg_model_Adamax.evaluate(test_generator)\n",
        "print('Adadelta Test Loss:', test_loss_Adamax)\n",
        "print('Adadelta Test accuracy:', test_acc_Adamax)"
      ],
      "metadata": {
        "colab": {
          "base_uri": "https://localhost:8080/"
        },
        "id": "4DWaxJrWJIgw",
        "outputId": "d68462a6-723e-4809-b6ee-6e31858d6111"
      },
      "execution_count": null,
      "outputs": [
        {
          "output_type": "stream",
          "name": "stdout",
          "text": [
            "49/49 [==============================] - 24s 487ms/step - loss: 0.0935 - accuracy: 0.9840\n",
            "Adadelta Test Loss: 0.09346838295459747\n",
            "Adadelta Test accuracy: 0.9840153455734253\n"
          ]
        }
      ]
    },
    {
      "cell_type": "markdown",
      "source": [
        "1.7 optimizer is Nadam"
      ],
      "metadata": {
        "id": "vIrYuO5VJSwM"
      }
    },
    {
      "cell_type": "code",
      "source": [
        "# Reset our image data generators\n",
        "train_generator.reset()\n",
        "valid_generator.reset()\n",
        "test_generator.reset()\n",
        "\n",
        "from keras.optimizers import Nadam\n",
        "\n",
        "#set the optimizer use SGD\n",
        "optim_Nadam = Nadam()\n",
        "\n",
        "# First we'll train the model without Fine-tuning using default Adam\n",
        "vgg_model_Nadam = create_model(input_shape, n_classes, optim_Nadam, fine_tune=0)"
      ],
      "metadata": {
        "id": "KFFRA8NnJVMR"
      },
      "execution_count": null,
      "outputs": []
    },
    {
      "cell_type": "code",
      "source": [
        "vgg_history_Nadam = vgg_model_Nadam.fit(train_generator,\n",
        "                            batch_size=batch_size,\n",
        "                            validation_data=valid_generator,\n",
        "                            steps_per_epoch=n_steps,\n",
        "                            validation_steps=n_val_steps,\n",
        "                            verbose=1)"
      ],
      "metadata": {
        "colab": {
          "base_uri": "https://localhost:8080/"
        },
        "id": "RxfscWFvJjnH",
        "outputId": "c96b4be4-81d9-41fd-e844-aac1f172e02e"
      },
      "execution_count": null,
      "outputs": [
        {
          "output_type": "stream",
          "name": "stdout",
          "text": [
            "146/146 [==============================] - 101s 682ms/step - loss: 6.1001 - accuracy: 0.9280 - val_loss: 0.5594 - val_accuracy: 0.9010\n"
          ]
        }
      ]
    },
    {
      "cell_type": "code",
      "source": [
        "# Evaluate the model on the test set\n",
        "test_loss_Nadam, test_acc_Nadam = vgg_model_Nadam.evaluate(test_generator)\n",
        "print('Adadelta Test Loss:', test_loss_Nadam)\n",
        "print('Adadelta Test accuracy:', test_acc_Nadam)"
      ],
      "metadata": {
        "colab": {
          "base_uri": "https://localhost:8080/"
        },
        "id": "nbAMIx5zJmCS",
        "outputId": "588010b0-58e3-4d28-d745-8e994f42daa3"
      },
      "execution_count": null,
      "outputs": [
        {
          "output_type": "stream",
          "name": "stdout",
          "text": [
            "49/49 [==============================] - 23s 464ms/step - loss: 0.4576 - accuracy: 0.9156\n",
            "Adadelta Test Loss: 0.4576485753059387\n",
            "Adadelta Test accuracy: 0.9156010150909424\n"
          ]
        }
      ]
    },
    {
      "cell_type": "markdown",
      "source": [
        "2.1 Adam: learning rate=0.1"
      ],
      "metadata": {
        "id": "f5rMeCV5VMJk"
      }
    },
    {
      "cell_type": "code",
      "source": [
        "# Reset our image data generators\n",
        "train_generator.reset()\n",
        "valid_generator.reset()\n",
        "test_generator.reset()\n",
        "\n",
        "#set the optimizer use adam\n",
        "optim_Adamax = Adamax(learning_rate=0.1)\n",
        "\n",
        "# First we'll train the model without Fine-tuning using Adam\n",
        "vgg_model_Adamax = create_model(input_shape, n_classes, optim_Adamax, fine_tune=0)"
      ],
      "metadata": {
        "id": "Sog2dIqdVH0S"
      },
      "execution_count": null,
      "outputs": []
    },
    {
      "cell_type": "code",
      "source": [
        "vgg_history_Adamax = vgg_model_Adamax.fit(train_generator,\n",
        "                            batch_size=batch_size,\n",
        "                            validation_data=valid_generator,\n",
        "                            steps_per_epoch=n_steps,\n",
        "                            validation_steps=n_val_steps,\n",
        "                            verbose=1)"
      ],
      "metadata": {
        "colab": {
          "base_uri": "https://localhost:8080/"
        },
        "id": "MbvflG90VH7l",
        "outputId": "5ae9b86c-5da3-430c-a815-b692a93e1abd"
      },
      "execution_count": null,
      "outputs": [
        {
          "output_type": "stream",
          "name": "stdout",
          "text": [
            "146/146 [==============================] - 128s 875ms/step - loss: 77441.8203 - accuracy: 0.8919 - val_loss: 65.3335 - val_accuracy: 0.9701\n"
          ]
        }
      ]
    },
    {
      "cell_type": "code",
      "source": [
        "# Evaluate the model on the test set\n",
        "test_loss_Adamax, test_acc_Adamax = vgg_model_Adamax.evaluate(test_generator)\n",
        "print('Adamax Test Loss(lr=0.1) :', test_loss_Adamax)\n",
        "print('Adamax Test accuracy(lr=0.1):', test_acc_Adamax)"
      ],
      "metadata": {
        "colab": {
          "base_uri": "https://localhost:8080/"
        },
        "id": "piUuF3VZWCJ5",
        "outputId": "30135e48-2b4b-48cd-ea6a-da4522a301fc"
      },
      "execution_count": null,
      "outputs": [
        {
          "output_type": "stream",
          "name": "stdout",
          "text": [
            "49/49 [==============================] - 24s 492ms/step - loss: 214.1566 - accuracy: 0.9629\n",
            "Adamax Test Loss(lr=0.1) : 214.15655517578125\n",
            "Adamax Test accuracy(lr=0.1): 0.9629155993461609\n"
          ]
        }
      ]
    },
    {
      "cell_type": "markdown",
      "source": [
        "2.2 Adam: learning rate=0.01"
      ],
      "metadata": {
        "id": "RsH4JaiGWIOd"
      }
    },
    {
      "cell_type": "code",
      "source": [
        "# Reset our image data generators\n",
        "train_generator.reset()\n",
        "valid_generator.reset()\n",
        "test_generator.reset()\n",
        "\n",
        "#set the optimizer use adam\n",
        "optim_Adamax_2 = Adamax(learning_rate=0.01)\n",
        "\n",
        "# First we'll train the model without Fine-tuning using Adam\n",
        "vgg_model_Adamax_2 = create_model(input_shape, n_classes, optim_Adamax_2, fine_tune=0)"
      ],
      "metadata": {
        "id": "T3VVN04HWKOe"
      },
      "execution_count": null,
      "outputs": []
    },
    {
      "cell_type": "code",
      "source": [
        "vgg_history_Adamax_2 = vgg_model_Adamax_2.fit(train_generator,\n",
        "                            batch_size=batch_size,\n",
        "                            validation_data=valid_generator,\n",
        "                            steps_per_epoch=n_steps,\n",
        "                            validation_steps=n_val_steps,\n",
        "                            verbose=1)"
      ],
      "metadata": {
        "colab": {
          "base_uri": "https://localhost:8080/"
        },
        "id": "UnkDENyDWL_h",
        "outputId": "a8c5dc64-fa6a-4934-be7e-79c1210b3234"
      },
      "execution_count": null,
      "outputs": [
        {
          "output_type": "stream",
          "name": "stdout",
          "text": [
            "146/146 [==============================] - 117s 800ms/step - loss: 253.2394 - accuracy: 0.9182 - val_loss: 3.0161 - val_accuracy: 0.9557\n"
          ]
        }
      ]
    },
    {
      "cell_type": "code",
      "source": [
        "# Evaluate the model on the test set\n",
        "test_loss_Adamax_2, test_acc_Adamax_2 = vgg_model_Adamax_2.evaluate(test_generator)\n",
        "print('Adamax Test Loss(lr=0.01) :', test_loss_Adamax_2)\n",
        "print('Adamax Test accuracy(lr=0.01):', test_acc_Adamax_2)"
      ],
      "metadata": {
        "colab": {
          "base_uri": "https://localhost:8080/"
        },
        "id": "9AWuGKm7WNgx",
        "outputId": "702ee18f-9152-408a-b6e6-e5f25b3d46cc"
      },
      "execution_count": null,
      "outputs": [
        {
          "output_type": "stream",
          "name": "stdout",
          "text": [
            "49/49 [==============================] - 24s 491ms/step - loss: 3.4038 - accuracy: 0.9482\n",
            "Adamax Test Loss(lr=0.01) : 3.403779983520508\n",
            "Adamax Test accuracy(lr=0.01): 0.9482097029685974\n"
          ]
        }
      ]
    },
    {
      "cell_type": "markdown",
      "source": [
        "2.3 Adam: learning rate=0.001"
      ],
      "metadata": {
        "id": "zKQefoojWWxg"
      }
    },
    {
      "cell_type": "code",
      "source": [
        "# Reset our image data generators\n",
        "train_generator.reset()\n",
        "valid_generator.reset()\n",
        "test_generator.reset()\n",
        "\n",
        "#set the optimizer use adam\n",
        "optim_Adamax_3 = Adamax(learning_rate=0.001)\n",
        "\n",
        "# First we'll train the model without Fine-tuning using Adam\n",
        "vgg_model_Adamax_3 = create_model(input_shape, n_classes, optim_Adamax_3, fine_tune=0)"
      ],
      "metadata": {
        "id": "xrQAWFEMWW99"
      },
      "execution_count": null,
      "outputs": []
    },
    {
      "cell_type": "code",
      "source": [
        "vgg_history_Adamax_3 = vgg_model_Adamax_3.fit(train_generator,\n",
        "                            batch_size=batch_size,\n",
        "                            validation_data=valid_generator,\n",
        "                            steps_per_epoch=n_steps,\n",
        "                            validation_steps=n_val_steps,\n",
        "                            verbose=1)"
      ],
      "metadata": {
        "id": "sZy8orrmWcad",
        "colab": {
          "base_uri": "https://localhost:8080/"
        },
        "outputId": "7176f5cd-64a5-4190-8ffa-42fb278543f0"
      },
      "execution_count": null,
      "outputs": [
        {
          "output_type": "stream",
          "name": "stdout",
          "text": [
            "146/146 [==============================] - 134s 913ms/step - loss: 7.2606 - accuracy: 0.9222 - val_loss: 0.1112 - val_accuracy: 0.9857\n"
          ]
        }
      ]
    },
    {
      "cell_type": "code",
      "execution_count": null,
      "metadata": {
        "colab": {
          "base_uri": "https://localhost:8080/"
        },
        "outputId": "ee8b21f5-7138-476d-ae6a-3e75a406bb8d",
        "id": "7tvMr4ikWhZ0"
      },
      "outputs": [
        {
          "output_type": "stream",
          "name": "stdout",
          "text": [
            "49/49 [==============================] - 25s 510ms/step - loss: 0.1699 - accuracy: 0.9808\n",
            "Adamax Test Loss(lr=0.01) : 0.16993825137615204\n",
            "Adamax Test accuracy(lr=0.01): 0.9808183908462524\n"
          ]
        }
      ],
      "source": [
        "# Evaluate the model on the test set\n",
        "test_loss_Adamax_3, test_acc_Adamax_3 = vgg_model_Adamax_3.evaluate(test_generator)\n",
        "print('Adamax Test Loss(lr=0.01) :', test_loss_Adamax_3)\n",
        "print('Adamax Test accuracy(lr=0.01):', test_acc_Adamax_3)"
      ]
    },
    {
      "cell_type": "markdown",
      "source": [
        "2.4 Adam: learning rate=0.0001"
      ],
      "metadata": {
        "id": "ogu-MecbWonJ"
      }
    },
    {
      "cell_type": "code",
      "source": [
        "# Reset our image data generators\n",
        "train_generator.reset()\n",
        "valid_generator.reset()\n",
        "test_generator.reset()\n",
        "\n",
        "from keras.optimizers import Adamax\n",
        "#set the optimizer use adam\n",
        "optim_Adamax_4 = Adamax(learning_rate=0.0001)\n",
        "\n",
        "# First we'll train the model without Fine-tuning using Adam\n",
        "vgg_model_Adamax_4 = create_model(input_shape, n_classes, optim_Adamax_4, fine_tune=0)"
      ],
      "metadata": {
        "id": "a3svXkxFWqk_",
        "colab": {
          "base_uri": "https://localhost:8080/"
        },
        "outputId": "e6828a73-3cc3-4c29-c1cb-8f02be4f43af"
      },
      "execution_count": null,
      "outputs": [
        {
          "output_type": "stream",
          "name": "stdout",
          "text": [
            "Downloading data from https://storage.googleapis.com/tensorflow/keras-applications/vgg16/vgg16_weights_tf_dim_ordering_tf_kernels_notop.h5\n",
            "58889256/58889256 [==============================] - 1s 0us/step\n"
          ]
        }
      ]
    },
    {
      "cell_type": "code",
      "source": [
        "vgg_history_Adamax_4 = vgg_model_Adamax_4.fit(train_generator,\n",
        "                            batch_size=batch_size,\n",
        "                            validation_data=valid_generator,\n",
        "                            steps_per_epoch=n_steps,\n",
        "                            validation_steps=n_val_steps,\n",
        "                            verbose=1)"
      ],
      "metadata": {
        "colab": {
          "base_uri": "https://localhost:8080/"
        },
        "id": "Zf0A7CiyWqor",
        "outputId": "4a4b48f7-1354-4d9a-b12d-1445b38101e6"
      },
      "execution_count": null,
      "outputs": [
        {
          "output_type": "stream",
          "name": "stdout",
          "text": [
            "146/146 [==============================] - 1139s 8s/step - loss: 0.9080 - accuracy: 0.9291 - val_loss: 0.1994 - val_accuracy: 0.9753\n"
          ]
        }
      ]
    },
    {
      "cell_type": "code",
      "source": [
        "# Evaluate the model on the test set\n",
        "test_loss_Adamax_4, test_acc_Adamax_4 = vgg_model_Adamax_4.evaluate(test_generator)\n",
        "print('Adamax Test Loss(lr=0.0001) :', test_loss_Adamax_4)\n",
        "print('Adamax Test accuracy(lr=0.0001):', test_acc_Adamax_4)"
      ],
      "metadata": {
        "colab": {
          "base_uri": "https://localhost:8080/"
        },
        "id": "OQOp_rhSWqtb",
        "outputId": "74895660-94ed-45c4-8fc1-4e661628d0a8"
      },
      "execution_count": null,
      "outputs": [
        {
          "output_type": "stream",
          "name": "stdout",
          "text": [
            "49/49 [==============================] - 367s 8s/step - loss: 0.3071 - accuracy: 0.9680\n",
            "Adamax Test Loss(lr=0.0001) : 0.3071066737174988\n",
            "Adamax Test accuracy(lr=0.0001): 0.9680306911468506\n"
          ]
        }
      ]
    },
    {
      "cell_type": "markdown",
      "source": [
        "3.1 Adam, learning_rate=0.001, epoch=5"
      ],
      "metadata": {
        "id": "NBUYJytbYWaK"
      }
    },
    {
      "cell_type": "code",
      "source": [
        "# Reset our image data generators\n",
        "train_generator.reset()\n",
        "valid_generator.reset()\n",
        "test_generator.reset()\n",
        "\n",
        "from keras.callbacks import ModelCheckpoint\n",
        "# ModelCheckpoint callback - save best weights\n",
        "t4_checkpoint_1 = ModelCheckpoint(filepath='t4_model_v1.weights.best.hdf5',\n",
        "                                  save_best_only=True,\n",
        "                                  verbose=1)\n",
        "\n",
        "optim = Adamax(learning_rate=0.001)\n",
        "\n",
        "n_epochs = 5\n",
        "\n",
        "# First we'll train the model without Fine-tuning\n",
        "vgg_model = create_model(input_shape, n_classes, optim, fine_tune=0)"
      ],
      "metadata": {
        "id": "gAperro2YiZ9"
      },
      "execution_count": null,
      "outputs": []
    },
    {
      "cell_type": "code",
      "source": [
        "vgg_history_1 = vgg_model.fit(train_generator,\n",
        "                            batch_size=batch_size,\n",
        "                            epochs=n_epochs,\n",
        "                            validation_data=valid_generator,\n",
        "                            steps_per_epoch=n_steps,\n",
        "                            validation_steps=n_val_steps,\n",
        "                            callbacks=[t4_checkpoint_1],\n",
        "                            verbose=1)"
      ],
      "metadata": {
        "colab": {
          "base_uri": "https://localhost:8080/"
        },
        "id": "PCCyFo1UYmJ_",
        "outputId": "f6502f04-0698-4b07-d7e9-2ad01dde6fc7"
      },
      "execution_count": null,
      "outputs": [
        {
          "output_type": "stream",
          "name": "stdout",
          "text": [
            "Epoch 1/5\n",
            "146/146 [==============================] - ETA: 0s - loss: 7.4181 - accuracy: 0.9173\n",
            "Epoch 1: val_loss improved from inf to 0.24118, saving model to t4_model_v1.weights.best.hdf5\n",
            "146/146 [==============================] - 118s 806ms/step - loss: 7.4181 - accuracy: 0.9173 - val_loss: 0.2412 - val_accuracy: 0.9772\n",
            "Epoch 2/5\n",
            "146/146 [==============================] - ETA: 0s - loss: 0.2048 - accuracy: 0.9770\n",
            "Epoch 2: val_loss improved from 0.24118 to 0.12248, saving model to t4_model_v1.weights.best.hdf5\n",
            "146/146 [==============================] - 112s 765ms/step - loss: 0.2048 - accuracy: 0.9770 - val_loss: 0.1225 - val_accuracy: 0.9876\n",
            "Epoch 3/5\n",
            "146/146 [==============================] - ETA: 0s - loss: 0.1104 - accuracy: 0.9822\n",
            "Epoch 3: val_loss improved from 0.12248 to 0.06317, saving model to t4_model_v1.weights.best.hdf5\n",
            "146/146 [==============================] - 129s 875ms/step - loss: 0.1104 - accuracy: 0.9822 - val_loss: 0.0632 - val_accuracy: 0.9876\n",
            "Epoch 4/5\n",
            "146/146 [==============================] - ETA: 0s - loss: 0.0681 - accuracy: 0.9850\n",
            "Epoch 4: val_loss did not improve from 0.06317\n",
            "146/146 [==============================] - 94s 647ms/step - loss: 0.0681 - accuracy: 0.9850 - val_loss: 0.1567 - val_accuracy: 0.9772\n",
            "Epoch 5/5\n",
            "146/146 [==============================] - ETA: 0s - loss: 0.0858 - accuracy: 0.9837\n",
            "Epoch 5: val_loss did not improve from 0.06317\n",
            "146/146 [==============================] - 112s 767ms/step - loss: 0.0858 - accuracy: 0.9837 - val_loss: 0.1183 - val_accuracy: 0.9837\n"
          ]
        }
      ]
    },
    {
      "cell_type": "code",
      "source": [
        "fig, ax = plt.subplots(nrows=1, ncols=2, figsize=(15, 5))\n",
        "\n",
        "# Plot learning curve\n",
        "\n",
        "ax[0].plot(vgg_history_1.history['loss'])\n",
        "ax[0].plot(vgg_history_1.history['val_loss'])\n",
        "ax[0].legend(['loss','val_loss'], prop={'size': 10});\n",
        "ax[0].set_title('loss', fontsize=15)\n",
        "ax[0].set_xlabel('Epochs')\n",
        "\n",
        "# Plot learning curve\n",
        "ax[1].plot(vgg_history_1.history['accuracy'])\n",
        "ax[1].plot(vgg_history_1.history['val_accuracy'])\n",
        "ax[1].legend(['accuracy','val_accuracy'],prop={'size': 10});\n",
        "ax[1].set_title('accuracy', fontsize=15)\n",
        "ax[1].set_xlabel('Epochs')"
      ],
      "metadata": {
        "colab": {
          "base_uri": "https://localhost:8080/",
          "height": 490
        },
        "id": "tmPLeNRXZ16-",
        "outputId": "f92c45d7-838b-455c-a688-adcb2ed3a7e3"
      },
      "execution_count": null,
      "outputs": [
        {
          "output_type": "execute_result",
          "data": {
            "text/plain": [
              "Text(0.5, 0, 'Epochs')"
            ]
          },
          "metadata": {},
          "execution_count": 15
        },
        {
          "output_type": "display_data",
          "data": {
            "text/plain": [
              "<Figure size 1500x500 with 2 Axes>"
            ],
            "image/png": "[encoded data removed]"
          },
          "metadata": {}
        }
      ]
    },
    {
      "cell_type": "code",
      "source": [
        "# Generate predictions\n",
        "vgg_model.load_weights('t4_model_v1.weights.best.hdf5') # initialize the best trained weights\n",
        "\n",
        "true_classes = test_generator.classes\n",
        "class_indices = train_generator.class_indices\n",
        "class_indices = dict((v,k) for k,v in class_indices.items())\n",
        "\n",
        "vgg_preds = vgg_model.predict(test_generator)\n",
        "vgg_pred_classes = np.argmax(vgg_preds, axis=1)"
      ],
      "metadata": {
        "id": "YbPaWMXcukKI",
        "colab": {
          "base_uri": "https://localhost:8080/"
        },
        "outputId": "e0724145-8a55-45c3-88e7-1dac81074c8a"
      },
      "execution_count": null,
      "outputs": [
        {
          "output_type": "stream",
          "name": "stdout",
          "text": [
            "49/49 [==============================] - 24s 483ms/step\n"
          ]
        }
      ]
    },
    {
      "cell_type": "code",
      "source": [
        "# Evaluate the model on the test set\n",
        "test_loss, test_acc = vgg_model.evaluate(test_generator)\n",
        "print('Adamax Test Loss :', test_loss)\n",
        "print('Adamax Test accuracy:', test_acc)"
      ],
      "metadata": {
        "colab": {
          "base_uri": "https://localhost:8080/"
        },
        "id": "7JBosuJ7Yu4Y",
        "outputId": "e1cd11d4-6864-4dd7-d37b-e88e89eb6e07"
      },
      "execution_count": null,
      "outputs": [
        {
          "output_type": "stream",
          "name": "stdout",
          "text": [
            "49/49 [==============================] - 22s 451ms/step - loss: 0.0808 - accuracy: 0.9847\n",
            "Adamax Test Loss : 0.08083156496286392\n",
            "Adamax Test accuracy: 0.9846547245979309\n"
          ]
        }
      ]
    },
    {
      "cell_type": "markdown",
      "source": [
        "3.2 epoch=10"
      ],
      "metadata": {
        "id": "osrF_8mRZ_Vt"
      }
    },
    {
      "cell_type": "code",
      "source": [
        "# ModelCheckpoint callback - save best weights\n",
        "t7_checkpoint_1 = ModelCheckpoint(filepath='t7_model_v1.weights.best.hdf5',\n",
        "                                  save_best_only=True,\n",
        "                                  verbose=1)\n",
        "\n",
        "# Reset our image data generators\n",
        "train_generator.reset()\n",
        "valid_generator.reset()\n",
        "test_generator.reset()\n",
        "\n",
        "n_epochs = 10\n",
        "\n",
        "optim = Adamax(learning_rate=0.001)\n",
        "\n",
        "# First we'll train the model without Fine-tuning\n",
        "vgg_model_2 = create_model(input_shape, n_classes, optim, fine_tune=0)"
      ],
      "metadata": {
        "id": "XJrzlFK3DB07"
      },
      "execution_count": null,
      "outputs": []
    },
    {
      "cell_type": "code",
      "source": [
        "vgg_history_2 = vgg_model_2.fit(train_generator,\n",
        "                            batch_size=batch_size,\n",
        "                            epochs=n_epochs,\n",
        "                            validation_data=valid_generator,\n",
        "                            steps_per_epoch=n_steps,\n",
        "                            validation_steps=n_val_steps,\n",
        "                            callbacks=[t7_checkpoint_1],\n",
        "                            verbose=1)"
      ],
      "metadata": {
        "colab": {
          "base_uri": "https://localhost:8080/"
        },
        "id": "H6QJ50TNaA85",
        "outputId": "45727766-cc2f-4854-d538-45abbfe26076"
      },
      "execution_count": null,
      "outputs": [
        {
          "output_type": "stream",
          "name": "stdout",
          "text": [
            "Epoch 1/10\n",
            "146/146 [==============================] - ETA: 0s - loss: 10.2355 - accuracy: 0.9145\n",
            "Epoch 1: val_loss improved from inf to 0.15811, saving model to t7_model_v1.weights.best.hdf5\n",
            "146/146 [==============================] - 125s 854ms/step - loss: 10.2355 - accuracy: 0.9145 - val_loss: 0.1581 - val_accuracy: 0.9753\n",
            "Epoch 2/10\n",
            "146/146 [==============================] - ETA: 0s - loss: 0.1603 - accuracy: 0.9751\n",
            "Epoch 2: val_loss improved from 0.15811 to 0.10385, saving model to t7_model_v1.weights.best.hdf5\n",
            "146/146 [==============================] - 123s 842ms/step - loss: 0.1603 - accuracy: 0.9751 - val_loss: 0.1039 - val_accuracy: 0.9818\n",
            "Epoch 3/10\n",
            "146/146 [==============================] - ETA: 0s - loss: 0.0789 - accuracy: 0.9809\n",
            "Epoch 3: val_loss improved from 0.10385 to 0.03379, saving model to t7_model_v1.weights.best.hdf5\n",
            "146/146 [==============================] - 107s 734ms/step - loss: 0.0789 - accuracy: 0.9809 - val_loss: 0.0338 - val_accuracy: 0.9889\n",
            "Epoch 4/10\n",
            "146/146 [==============================] - ETA: 0s - loss: 0.0562 - accuracy: 0.9839\n",
            "Epoch 4: val_loss did not improve from 0.03379\n",
            "146/146 [==============================] - 111s 758ms/step - loss: 0.0562 - accuracy: 0.9839 - val_loss: 0.0349 - val_accuracy: 0.9896\n",
            "Epoch 5/10\n",
            "146/146 [==============================] - ETA: 0s - loss: 0.0418 - accuracy: 0.9878\n",
            "Epoch 5: val_loss did not improve from 0.03379\n",
            "146/146 [==============================] - 96s 658ms/step - loss: 0.0418 - accuracy: 0.9878 - val_loss: 0.0497 - val_accuracy: 0.9883\n",
            "Epoch 6/10\n",
            "146/146 [==============================] - ETA: 0s - loss: 0.0366 - accuracy: 0.9865\n",
            "Epoch 6: val_loss did not improve from 0.03379\n",
            "146/146 [==============================] - 110s 757ms/step - loss: 0.0366 - accuracy: 0.9865 - val_loss: 0.0578 - val_accuracy: 0.9857\n",
            "Epoch 7/10\n",
            "146/146 [==============================] - ETA: 0s - loss: 0.0448 - accuracy: 0.9856\n",
            "Epoch 7: val_loss did not improve from 0.03379\n",
            "146/146 [==============================] - 110s 757ms/step - loss: 0.0448 - accuracy: 0.9856 - val_loss: 0.0454 - val_accuracy: 0.9909\n",
            "Epoch 8/10\n",
            "146/146 [==============================] - ETA: 0s - loss: 0.0244 - accuracy: 0.9916\n",
            "Epoch 8: val_loss did not improve from 0.03379\n",
            "146/146 [==============================] - 111s 764ms/step - loss: 0.0244 - accuracy: 0.9916 - val_loss: 0.0514 - val_accuracy: 0.9902\n",
            "Epoch 9/10\n",
            "146/146 [==============================] - ETA: 0s - loss: 0.0402 - accuracy: 0.9886\n",
            "Epoch 9: val_loss did not improve from 0.03379\n",
            "146/146 [==============================] - 93s 637ms/step - loss: 0.0402 - accuracy: 0.9886 - val_loss: 0.0355 - val_accuracy: 0.9889\n",
            "Epoch 10/10\n",
            "146/146 [==============================] - ETA: 0s - loss: 0.0321 - accuracy: 0.9908\n",
            "Epoch 10: val_loss did not improve from 0.03379\n",
            "146/146 [==============================] - 112s 767ms/step - loss: 0.0321 - accuracy: 0.9908 - val_loss: 0.0443 - val_accuracy: 0.9889\n"
          ]
        }
      ]
    },
    {
      "cell_type": "code",
      "source": [
        "fig, ax = plt.subplots(nrows=1, ncols=2, figsize=(15, 5))\n",
        "\n",
        "# Plot learning curve\n",
        "\n",
        "ax[0].plot(vgg_history_2.history['loss'])\n",
        "ax[0].plot(vgg_history_2.history['val_loss'])\n",
        "ax[0].legend(['loss','val_loss'], prop={'size': 10});\n",
        "ax[0].set_title('loss', fontsize=15)\n",
        "ax[0].set_xlabel('Epochs')\n",
        "\n",
        "# Plot learning curve\n",
        "ax[1].plot(vgg_history_2.history['accuracy'])\n",
        "ax[1].plot(vgg_history_2.history['val_accuracy'])\n",
        "ax[1].legend(['accuracy','val_accuracy'],prop={'size': 10});\n",
        "ax[1].set_title('accuracy', fontsize=15)\n",
        "ax[1].set_xlabel('Epochs')"
      ],
      "metadata": {
        "colab": {
          "base_uri": "https://localhost:8080/",
          "height": 487
        },
        "id": "xQQ9QOYlaENa",
        "outputId": "f3f9809a-8eaf-420e-c27f-885c38c5426f"
      },
      "execution_count": null,
      "outputs": [
        {
          "output_type": "execute_result",
          "data": {
            "text/plain": [
              "Text(0.5, 0, 'Epochs')"
            ]
          },
          "metadata": {},
          "execution_count": 32
        },
        {
          "output_type": "display_data",
          "data": {
            "text/plain": [
              "<Figure size 1500x500 with 2 Axes>"
            ],
            "image/png": "[encoded data removed]"
          },
          "metadata": {}
        }
      ]
    },
    {
      "cell_type": "code",
      "source": [
        "# initialize the best trained weights\n",
        "vgg_model.load_weights('t7_model_v1.weights.best.hdf5')\n",
        "\n",
        "vgg_preds_2 = vgg_model.predict(test_generator)\n",
        "vgg_pred_classes_2 = np.argmax(vgg_preds_2, axis=1)"
      ],
      "metadata": {
        "id": "vJtPyBzSwEN3",
        "colab": {
          "base_uri": "https://localhost:8080/"
        },
        "outputId": "3cfd77c4-77ab-4b0b-e145-5f9cc4dfefb4"
      },
      "execution_count": null,
      "outputs": [
        {
          "output_type": "stream",
          "name": "stdout",
          "text": [
            "49/49 [==============================] - 26s 524ms/step\n"
          ]
        }
      ]
    },
    {
      "cell_type": "code",
      "source": [
        "# Evaluate the model on the test set\n",
        "test_loss, test_acc = vgg_model.evaluate(test_generator)\n",
        "print('Adamax Test Loss :', test_loss)\n",
        "print('Adamax Test accuracy:', test_acc)"
      ],
      "metadata": {
        "colab": {
          "base_uri": "https://localhost:8080/"
        },
        "id": "bpPNpEvOaIJQ",
        "outputId": "a2c23344-0ade-4144-d777-9bf0c1b48044"
      },
      "execution_count": null,
      "outputs": [
        {
          "output_type": "stream",
          "name": "stdout",
          "text": [
            "49/49 [==============================] - 24s 484ms/step - loss: 0.0669 - accuracy: 0.9808\n",
            "Adamax Test Loss : 0.0669456273317337\n",
            "Adamax Test accuracy: 0.9808183908462524\n"
          ]
        }
      ]
    },
    {
      "cell_type": "markdown",
      "source": [
        "3.3 epoch=20"
      ],
      "metadata": {
        "id": "QdiRCtchiPEc"
      }
    },
    {
      "cell_type": "code",
      "source": [
        "# ModelCheckpoint callback - save best weights\n",
        "t3_checkpoint_1 = ModelCheckpoint(filepath='t3_model_v1.weights.best.hdf5',\n",
        "                                  save_best_only=True,\n",
        "                                  verbose=1)\n",
        "# Reset our image data generators\n",
        "train_generator.reset()\n",
        "valid_generator.reset()\n",
        "test_generator.reset()\n",
        "\n",
        "n_epochs = 20\n",
        "\n",
        "optim = Adamax(learning_rate=0.001)\n",
        "\n",
        "# First we'll train the model without Fine-tuning\n",
        "vgg_model_3 = create_model(input_shape, n_classes, optim, fine_tune=0)"
      ],
      "metadata": {
        "id": "wpDFnGxAM7ag"
      },
      "execution_count": null,
      "outputs": []
    },
    {
      "cell_type": "code",
      "source": [
        "vgg_history_3 = vgg_model_3.fit(train_generator,\n",
        "                            batch_size=batch_size,\n",
        "                            epochs=n_epochs,\n",
        "                            validation_data=valid_generator,\n",
        "                            steps_per_epoch=n_steps,\n",
        "                            validation_steps=n_val_steps,\n",
        "                            callbacks=[t3_checkpoint_1],\n",
        "                            verbose=1)"
      ],
      "metadata": {
        "id": "GWqm7YKbiOhY",
        "colab": {
          "base_uri": "https://localhost:8080/"
        },
        "outputId": "7624bc7f-c731-4444-9277-bf958f2823b8"
      },
      "execution_count": null,
      "outputs": [
        {
          "output_type": "stream",
          "name": "stdout",
          "text": [
            "Epoch 1/20\n",
            "146/146 [==============================] - ETA: 0s - loss: 1.5867 - accuracy: 0.9351\n",
            "Epoch 1: val_loss improved from inf to 1.15049, saving model to t3_model_v1.weights.best.hdf5\n",
            "146/146 [==============================] - 130s 886ms/step - loss: 1.5867 - accuracy: 0.9351 - val_loss: 1.1505 - val_accuracy: 0.9466\n",
            "Epoch 2/20\n",
            "146/146 [==============================] - ETA: 0s - loss: 0.5401 - accuracy: 0.9734\n",
            "Epoch 2: val_loss improved from 1.15049 to 0.20257, saving model to t3_model_v1.weights.best.hdf5\n",
            "146/146 [==============================] - 134s 920ms/step - loss: 0.5401 - accuracy: 0.9734 - val_loss: 0.2026 - val_accuracy: 0.9818\n",
            "Epoch 3/20\n",
            "146/146 [==============================] - ETA: 0s - loss: 0.2475 - accuracy: 0.9813\n",
            "Epoch 3: val_loss did not improve from 0.20257\n",
            "146/146 [==============================] - 127s 871ms/step - loss: 0.2475 - accuracy: 0.9813 - val_loss: 0.2401 - val_accuracy: 0.9785\n",
            "Epoch 4/20\n",
            "146/146 [==============================] - ETA: 0s - loss: 0.2061 - accuracy: 0.9783\n",
            "Epoch 4: val_loss did not improve from 0.20257\n",
            "146/146 [==============================] - 112s 767ms/step - loss: 0.2061 - accuracy: 0.9783 - val_loss: 0.2117 - val_accuracy: 0.9740\n",
            "Epoch 5/20\n",
            "146/146 [==============================] - ETA: 0s - loss: 0.1240 - accuracy: 0.9863\n",
            "Epoch 5: val_loss improved from 0.20257 to 0.07731, saving model to t3_model_v1.weights.best.hdf5\n",
            "146/146 [==============================] - 123s 842ms/step - loss: 0.1240 - accuracy: 0.9863 - val_loss: 0.0773 - val_accuracy: 0.9857\n",
            "Epoch 6/20\n",
            "146/146 [==============================] - ETA: 0s - loss: 0.1000 - accuracy: 0.9869\n",
            "Epoch 6: val_loss did not improve from 0.07731\n",
            "146/146 [==============================] - 113s 777ms/step - loss: 0.1000 - accuracy: 0.9869 - val_loss: 0.1418 - val_accuracy: 0.9805\n",
            "Epoch 7/20\n",
            "146/146 [==============================] - ETA: 0s - loss: 0.1606 - accuracy: 0.9813\n",
            "Epoch 7: val_loss did not improve from 0.07731\n",
            "146/146 [==============================] - 99s 680ms/step - loss: 0.1606 - accuracy: 0.9813 - val_loss: 0.2126 - val_accuracy: 0.9772\n",
            "Epoch 8/20\n",
            "146/146 [==============================] - ETA: 0s - loss: 0.1068 - accuracy: 0.9886\n",
            "Epoch 8: val_loss did not improve from 0.07731\n",
            "146/146 [==============================] - 115s 786ms/step - loss: 0.1068 - accuracy: 0.9886 - val_loss: 0.0993 - val_accuracy: 0.9902\n",
            "Epoch 9/20\n",
            "146/146 [==============================] - ETA: 0s - loss: 0.0974 - accuracy: 0.9865\n",
            "Epoch 9: val_loss did not improve from 0.07731\n",
            "146/146 [==============================] - 112s 767ms/step - loss: 0.0974 - accuracy: 0.9865 - val_loss: 0.1151 - val_accuracy: 0.9902\n",
            "Epoch 10/20\n",
            "146/146 [==============================] - ETA: 0s - loss: 0.1014 - accuracy: 0.9869\n",
            "Epoch 10: val_loss did not improve from 0.07731\n",
            "146/146 [==============================] - 111s 760ms/step - loss: 0.1014 - accuracy: 0.9869 - val_loss: 0.1379 - val_accuracy: 0.9857\n",
            "Epoch 11/20\n",
            "146/146 [==============================] - ETA: 0s - loss: 0.0730 - accuracy: 0.9908\n",
            "Epoch 11: val_loss did not improve from 0.07731\n",
            "146/146 [==============================] - 93s 639ms/step - loss: 0.0730 - accuracy: 0.9908 - val_loss: 0.1468 - val_accuracy: 0.9876\n",
            "Epoch 12/20\n",
            "146/146 [==============================] - ETA: 0s - loss: 0.0997 - accuracy: 0.9890\n",
            "Epoch 12: val_loss did not improve from 0.07731\n",
            "146/146 [==============================] - 113s 769ms/step - loss: 0.0997 - accuracy: 0.9890 - val_loss: 0.1117 - val_accuracy: 0.9876\n",
            "Epoch 13/20\n",
            "146/146 [==============================] - ETA: 0s - loss: 0.0692 - accuracy: 0.9893\n",
            "Epoch 13: val_loss did not improve from 0.07731\n",
            "146/146 [==============================] - 112s 766ms/step - loss: 0.0692 - accuracy: 0.9893 - val_loss: 0.1003 - val_accuracy: 0.9922\n",
            "Epoch 14/20\n",
            "146/146 [==============================] - ETA: 0s - loss: 0.0775 - accuracy: 0.9869\n",
            "Epoch 14: val_loss did not improve from 0.07731\n",
            "146/146 [==============================] - 93s 634ms/step - loss: 0.0775 - accuracy: 0.9869 - val_loss: 0.0815 - val_accuracy: 0.9902\n",
            "Epoch 15/20\n",
            "146/146 [==============================] - ETA: 0s - loss: 0.0812 - accuracy: 0.9901\n",
            "Epoch 15: val_loss improved from 0.07731 to 0.05623, saving model to t3_model_v1.weights.best.hdf5\n",
            "146/146 [==============================] - 112s 772ms/step - loss: 0.0812 - accuracy: 0.9901 - val_loss: 0.0562 - val_accuracy: 0.9915\n",
            "Epoch 16/20\n",
            "146/146 [==============================] - ETA: 0s - loss: 0.0642 - accuracy: 0.9895\n",
            "Epoch 16: val_loss did not improve from 0.05623\n",
            "146/146 [==============================] - 110s 754ms/step - loss: 0.0642 - accuracy: 0.9895 - val_loss: 0.1060 - val_accuracy: 0.9902\n",
            "Epoch 17/20\n",
            "146/146 [==============================] - ETA: 0s - loss: 0.0440 - accuracy: 0.9916\n",
            "Epoch 17: val_loss did not improve from 0.05623\n",
            "146/146 [==============================] - 111s 760ms/step - loss: 0.0440 - accuracy: 0.9916 - val_loss: 0.1626 - val_accuracy: 0.9844\n",
            "Epoch 18/20\n",
            "146/146 [==============================] - ETA: 0s - loss: 0.0515 - accuracy: 0.9927\n",
            "Epoch 18: val_loss improved from 0.05623 to 0.03524, saving model to t3_model_v1.weights.best.hdf5\n",
            "146/146 [==============================] - 109s 749ms/step - loss: 0.0515 - accuracy: 0.9927 - val_loss: 0.0352 - val_accuracy: 0.9922\n",
            "Epoch 19/20\n",
            "146/146 [==============================] - ETA: 0s - loss: 0.0429 - accuracy: 0.9923\n",
            "Epoch 19: val_loss did not improve from 0.03524\n",
            "146/146 [==============================] - 113s 772ms/step - loss: 0.0429 - accuracy: 0.9923 - val_loss: 0.0797 - val_accuracy: 0.9909\n",
            "Epoch 20/20\n",
            "146/146 [==============================] - ETA: 0s - loss: 0.0557 - accuracy: 0.9910\n",
            "Epoch 20: val_loss did not improve from 0.03524\n",
            "146/146 [==============================] - 111s 759ms/step - loss: 0.0557 - accuracy: 0.9910 - val_loss: 0.0748 - val_accuracy: 0.9883\n"
          ]
        }
      ]
    },
    {
      "cell_type": "code",
      "source": [
        "fig, ax = plt.subplots(nrows=1, ncols=2, figsize=(15, 5))\n",
        "\n",
        "# Plot learning curve\n",
        "\n",
        "ax[0].plot(vgg_history_3.history['loss'])\n",
        "ax[0].plot(vgg_history_3.history['val_loss'])\n",
        "ax[0].legend(['loss','val_loss'], prop={'size': 10});\n",
        "ax[0].set_title('loss', fontsize=15)\n",
        "ax[0].set_xlabel('Epochs')\n",
        "\n",
        "# Plot learning curve\n",
        "ax[1].plot(vgg_history_3.history['accuracy'])\n",
        "ax[1].plot(vgg_history_3.history['val_accuracy'])\n",
        "ax[1].legend(['accuracy','val_accuracy'],prop={'size': 10});\n",
        "ax[1].set_title('accuracy', fontsize=15)\n",
        "ax[1].set_xlabel('Epochs')"
      ],
      "metadata": {
        "id": "tVkEx0uNiv63",
        "colab": {
          "base_uri": "https://localhost:8080/",
          "height": 485
        },
        "outputId": "b322faa1-13fe-424c-99be-4486e3db2b9e"
      },
      "execution_count": null,
      "outputs": [
        {
          "output_type": "execute_result",
          "data": {
            "text/plain": [
              "Text(0.5, 0, 'Epochs')"
            ]
          },
          "metadata": {},
          "execution_count": 50
        },
        {
          "output_type": "display_data",
          "data": {
            "text/plain": [
              "<Figure size 1500x500 with 2 Axes>"
            ],
            "image/png": "[encoded data removed]"
          },
          "metadata": {}
        }
      ]
    },
    {
      "cell_type": "code",
      "source": [
        "# initialize the best trained weights\n",
        "vgg_model_3.load_weights('t3_model_v1.weights.best.hdf5')\n",
        "\n",
        "vgg_preds_3 = vgg_model_3.predict(test_generator)\n",
        "vgg_pred_classes_3 = np.argmax(vgg_preds_3, axis=1)"
      ],
      "metadata": {
        "id": "nay812O60TXz",
        "colab": {
          "base_uri": "https://localhost:8080/"
        },
        "outputId": "2685da9a-2d59-4261-fda8-e536de14f6c6"
      },
      "execution_count": null,
      "outputs": [
        {
          "output_type": "stream",
          "name": "stdout",
          "text": [
            "49/49 [==============================] - 25s 513ms/step\n"
          ]
        }
      ]
    },
    {
      "cell_type": "code",
      "source": [
        "# Evaluate the model on the test set\n",
        "test_loss_3, test_acc_3 = vgg_model_3.evaluate(test_generator)\n",
        "print('Adamax Test Loss :', test_loss_3)\n",
        "print('Adamax Test accuracy:', test_acc_3)"
      ],
      "metadata": {
        "id": "kzUkRs3FixVi",
        "colab": {
          "base_uri": "https://localhost:8080/"
        },
        "outputId": "8720106e-8f1f-4221-95ff-6f4338b9d75d"
      },
      "execution_count": null,
      "outputs": [
        {
          "output_type": "stream",
          "name": "stdout",
          "text": [
            "49/49 [==============================] - 24s 485ms/step - loss: 0.0478 - accuracy: 0.9891\n",
            "Adamax Test Loss : 0.04775117710232735\n",
            "Adamax Test accuracy: 0.989130437374115\n"
          ]
        }
      ]
    },
    {
      "cell_type": "markdown",
      "source": [
        "# unfreeze last two layers (with epoch=5)"
      ],
      "metadata": {
        "id": "qAhA8DR9jTjP"
      }
    },
    {
      "cell_type": "code",
      "source": [
        "# Reset our image data generators\n",
        "train_generator.reset()\n",
        "valid_generator.reset()\n",
        "test_generator.reset()\n",
        "\n",
        "n_epochs = 5\n",
        "# Use a smaller learning rate\n",
        "optim_2 = Adamax(learning_rate=0.001)\n",
        "\n",
        "# Re-compile the model, this time leaving the last 2 layers unfrozen for Fine-Tuning\n",
        "vgg_model_ft = create_model(input_shape, n_classes, optim_2, fine_tune=2)"
      ],
      "metadata": {
        "id": "CxX7W7jPjacx"
      },
      "execution_count": null,
      "outputs": []
    },
    {
      "cell_type": "code",
      "source": [
        "vgg_history_ft = vgg_model_ft.fit(train_generator,\n",
        "                            batch_size=batch_size,\n",
        "                            epochs=n_epochs,\n",
        "                            validation_data=valid_generator,\n",
        "                            steps_per_epoch=n_steps,\n",
        "                            validation_steps=n_val_steps,\n",
        "                            callbacks=[t4_checkpoint_1],\n",
        "                            verbose=1)"
      ],
      "metadata": {
        "id": "MxiXT054t4_m",
        "colab": {
          "base_uri": "https://localhost:8080/"
        },
        "outputId": "3a0a4d99-ed12-4007-9258-86a166181e0b"
      },
      "execution_count": null,
      "outputs": [
        {
          "output_type": "stream",
          "name": "stdout",
          "text": [
            "Epoch 1/5\n",
            "146/146 [==============================] - ETA: 0s - loss: 5.4513 - accuracy: 0.8851\n",
            "Epoch 1: val_loss did not improve from 0.06317\n",
            "146/146 [==============================] - 117s 797ms/step - loss: 5.4513 - accuracy: 0.8851 - val_loss: 0.1143 - val_accuracy: 0.9668\n",
            "Epoch 2/5\n",
            "146/146 [==============================] - ETA: 0s - loss: 0.0642 - accuracy: 0.9785\n",
            "Epoch 2: val_loss improved from 0.06317 to 0.04587, saving model to t4_model_v1.weights.best.hdf5\n",
            "146/146 [==============================] - 122s 834ms/step - loss: 0.0642 - accuracy: 0.9785 - val_loss: 0.0459 - val_accuracy: 0.9896\n",
            "Epoch 3/5\n",
            "146/146 [==============================] - ETA: 0s - loss: 0.0546 - accuracy: 0.9847\n",
            "Epoch 3: val_loss did not improve from 0.04587\n",
            "146/146 [==============================] - 117s 805ms/step - loss: 0.0546 - accuracy: 0.9847 - val_loss: 0.0472 - val_accuracy: 0.9837\n",
            "Epoch 4/5\n",
            "146/146 [==============================] - ETA: 0s - loss: 0.0288 - accuracy: 0.9901\n",
            "Epoch 4: val_loss did not improve from 0.04587\n",
            "146/146 [==============================] - 94s 646ms/step - loss: 0.0288 - accuracy: 0.9901 - val_loss: 0.0597 - val_accuracy: 0.9876\n",
            "Epoch 5/5\n",
            "146/146 [==============================] - ETA: 0s - loss: 0.0312 - accuracy: 0.9916\n",
            "Epoch 5: val_loss improved from 0.04587 to 0.03747, saving model to t4_model_v1.weights.best.hdf5\n",
            "146/146 [==============================] - 119s 818ms/step - loss: 0.0312 - accuracy: 0.9916 - val_loss: 0.0375 - val_accuracy: 0.9928\n"
          ]
        }
      ]
    },
    {
      "cell_type": "code",
      "source": [
        "fig, ax = plt.subplots(nrows=1, ncols=2, figsize=(15, 5))\n",
        "\n",
        "# Plot learning curve\n",
        "\n",
        "ax[0].plot(vgg_history_ft.history['loss'])\n",
        "ax[0].plot(vgg_history_ft.history['val_loss'])\n",
        "ax[0].legend(['loss','val_loss'], prop={'size': 10});\n",
        "ax[0].set_title('loss', fontsize=15)\n",
        "ax[0].set_xlabel('Epochs')\n",
        "\n",
        "# Plot learning curve\n",
        "ax[1].plot(vgg_history_ft.history['accuracy'])\n",
        "ax[1].plot(vgg_history_ft.history['val_accuracy'])\n",
        "ax[1].legend(['accuracy','val_accuracy'],prop={'size': 10});\n",
        "ax[1].set_title('accuracy', fontsize=15)\n",
        "ax[1].set_xlabel('Epochs')"
      ],
      "metadata": {
        "id": "JjcpnUONt5Cc",
        "colab": {
          "base_uri": "https://localhost:8080/",
          "height": 490
        },
        "outputId": "551f3c1c-08a4-4a0e-86e5-d063b5f484c5"
      },
      "execution_count": null,
      "outputs": [
        {
          "output_type": "execute_result",
          "data": {
            "text/plain": [
              "Text(0.5, 0, 'Epochs')"
            ]
          },
          "metadata": {},
          "execution_count": 40
        },
        {
          "output_type": "display_data",
          "data": {
            "text/plain": [
              "<Figure size 1500x500 with 2 Axes>"
            ],
            "image/png": "[encoded data removed]"
          },
          "metadata": {}
        }
      ]
    },
    {
      "cell_type": "code",
      "source": [
        "# initialize the best trained weights\n",
        "vgg_model.load_weights('t4_model_v1.weights.best.hdf5')\n",
        "\n",
        "vgg_preds_ft = vgg_model_ft.predict(test_generator)\n",
        "vgg_pred_classes_ft = np.argmax(vgg_preds_ft, axis=1)"
      ],
      "metadata": {
        "id": "GtfB8Pkq0C9w",
        "colab": {
          "base_uri": "https://localhost:8080/"
        },
        "outputId": "7d37f1ee-6388-4805-e95a-d6cba8dcb262"
      },
      "execution_count": null,
      "outputs": [
        {
          "output_type": "stream",
          "name": "stdout",
          "text": [
            "49/49 [==============================] - 27s 541ms/step\n"
          ]
        }
      ]
    },
    {
      "cell_type": "code",
      "source": [
        "# Evaluate the model on the test set\n",
        "test_loss, test_acc = vgg_model.evaluate(test_generator)\n",
        "print('Adamax Test Loss :', test_loss)\n",
        "print('Adamax Test accuracy:', test_acc)"
      ],
      "metadata": {
        "id": "93gXFHyvuHL_",
        "colab": {
          "base_uri": "https://localhost:8080/"
        },
        "outputId": "0f400309-3fb7-41b2-a6e0-02e207a7963b"
      },
      "execution_count": null,
      "outputs": [
        {
          "output_type": "stream",
          "name": "stdout",
          "text": [
            "49/49 [==============================] - 23s 475ms/step - loss: 0.0352 - accuracy: 0.9879\n",
            "Adamax Test Loss : 0.03515332564711571\n",
            "Adamax Test accuracy: 0.9878516793251038\n"
          ]
        }
      ]
    },
    {
      "cell_type": "markdown",
      "source": [
        "# comparison (epoch=5)"
      ],
      "metadata": {
        "id": "b0O6UnJ20zEK"
      }
    },
    {
      "cell_type": "code",
      "source": [
        "import seaborn as sns\n",
        "from sklearn.metrics import confusion_matrix\n",
        "\n",
        "# Get the names of the ten classes\n",
        "class_names = test_generator.class_indices.keys()\n",
        "\n",
        "def plot_heatmap(y_true, y_pred, class_names, ax, title):\n",
        "    cm = confusion_matrix(y_true, y_pred)\n",
        "    sns.heatmap(\n",
        "        cm,\n",
        "        annot=True,\n",
        "        square=True,\n",
        "        xticklabels=class_names,\n",
        "        yticklabels=class_names,\n",
        "        fmt='d',\n",
        "        cmap=plt.cm.Blues,\n",
        "        cbar=False,\n",
        "        ax=ax\n",
        "    )\n",
        "    ax.set_title(title, fontsize=16)\n",
        "    ax.set_xticklabels(ax.get_xticklabels(), rotation=45, ha=\"right\")\n",
        "    ax.set_ylabel('True Label', fontsize=12)\n",
        "    ax.set_xlabel('Predicted Label', fontsize=12)\n",
        "\n",
        "fig, (ax2, ax3) = plt.subplots(1, 2, figsize=(20, 10))\n",
        "\n",
        "# plot_heatmap(true_classes, scratch_pred_classes, class_names, ax1, title=\"Custom CNN\")\n",
        "# 修改这里的vgg_pred_classes,\n",
        "plot_heatmap(true_classes, vgg_pred_classes, class_names, ax2, title=\"Transfer Learning (VGG16) No Fine-Tuning\")\n",
        "plot_heatmap(true_classes, vgg_pred_classes_ft, class_names, ax3, title=\"Transfer Learning (VGG16) with Fine-Tuning\")\n",
        "\n",
        "fig.suptitle(\"Confusion Matrix Model Comparison\", fontsize=24)\n",
        "fig.tight_layout()\n",
        "fig.subplots_adjust(top=0.8)\n",
        "plt.show()"
      ],
      "metadata": {
        "id": "BLzFlEgf01Q6",
        "colab": {
          "base_uri": "https://localhost:8080/",
          "height": 679
        },
        "outputId": "5f4e03fb-2b61-476c-db13-a2e70a4c91b2"
      },
      "execution_count": null,
      "outputs": [
        {
          "output_type": "display_data",
          "data": {
            "text/plain": [
              "<Figure size 2000x1000 with 2 Axes>"
            ],
            "image/png": "[encoded data removed]"
          },
          "metadata": {}
        }
      ]
    },
    {
      "cell_type": "code",
      "source": [],
      "metadata": {
        "id": "B5tjerEINTbh"
      },
      "execution_count": null,
      "outputs": []
    }
  ],
  "metadata": {
    "accelerator": "GPU",
    "colab": {
      "provenance": [],
      "gpuType": "T4"
    },
    "kernelspec": {
      "display_name": "Python 3",
      "name": "python3"
    },
    "language_info": {
      "name": "python"
    }
  },
  "nbformat": 4,
  "nbformat_minor": 0
}